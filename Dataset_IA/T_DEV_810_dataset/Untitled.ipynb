{
 "cells": [
  {
   "cell_type": "code",
   "execution_count": 1,
   "id": "dd69ef58",
   "metadata": {},
   "outputs": [],
   "source": [
    "from PIL import Image \n",
    "import os\n",
    "import numpy as np\n",
    "from sklearn import svm, metrics"
   ]
  },
  {
   "cell_type": "code",
   "execution_count": 2,
   "id": "345a5a0b",
   "metadata": {},
   "outputs": [
    {
     "name": "stdout",
     "output_type": "stream",
     "text": [
      "C:\\Users\\ferre\\Dataset_IA\\T_DEV_810_dataset\\test\n"
     ]
    }
   ],
   "source": [
    "current_dir= os.getcwd()\n",
    "folder_path = \"\"+ current_dir +\"\\\\test\"\n",
    "print(folder_path)\n",
    "ListimagesTestNORMAL = []\n",
    "ListimagesTestPNEUMONIA = []\n",
    "\n",
    "folder_path_train= \"\"+ current_dir +\"\\\\train\"\n",
    "ListimagesTrainNORMAL = []\n",
    "ListimagesTrainPNEUMONIA = []"
   ]
  },
  {
   "cell_type": "code",
   "execution_count": 3,
   "id": "5194b05a",
   "metadata": {},
   "outputs": [],
   "source": [
    "for filename in os.listdir(folder_path+'\\\\NORMAL'):\n",
    "    # Vérifier que le fichier est bien une image\n",
    "    if filename.endswith(\".jpg\") or filename.endswith(\".jpeg\") or filename.endswith(\".png\"):\n",
    "        # Ouvrir l'image et l'ajouter à la liste\n",
    "        img = Image.open(os.path.join(folder_path+'\\\\NORMAL', filename))\n",
    "        ListimagesTestNORMAL.append(img)\n",
    "for filename in os.listdir(folder_path+'\\\\PNEUMONIA'):\n",
    "    # Vérifier que le fichier est bien une image\n",
    "    if filename.endswith(\".jpg\") or filename.endswith(\".jpeg\") or filename.endswith(\".png\"):\n",
    "        # Ouvrir l'image et l'ajouter à la liste\n",
    "        img = Image.open(os.path.join(folder_path+'\\\\PNEUMONIA', filename))\n",
    "        ListimagesTestPNEUMONIA.append(img)"
   ]
  },
  {
   "cell_type": "code",
   "execution_count": 4,
   "id": "b8de0f91",
   "metadata": {},
   "outputs": [],
   "source": [
    "for filename in os.listdir(folder_path_train+'\\\\NORMAL'):\n",
    "    # Vérifier que le fichier est bien une image\n",
    "    if filename.endswith(\".jpg\") or filename.endswith(\".jpeg\") or filename.endswith(\".png\"):\n",
    "        # Ouvrir l'image et l'ajouter à la liste\n",
    "        img = Image.open(os.path.join(folder_path_train+'\\\\NORMAL', filename))\n",
    "        ListimagesTrainNORMAL.append(img)\n",
    "for filename in os.listdir(folder_path_train+'\\\\PNEUMONIA'):\n",
    "    # Vérifier que le fichier est bien une image\n",
    "    if filename.endswith(\".jpg\") or filename.endswith(\".jpeg\") or filename.endswith(\".png\"):\n",
    "        # Ouvrir l'image et l'ajouter à la liste\n",
    "        img = Image.open(os.path.join(folder_path_train+'\\\\PNEUMONIA', filename))\n",
    "        ListimagesTrainPNEUMONIA.append(img)"
   ]
  },
  {
   "cell_type": "code",
   "execution_count": 5,
   "id": "5768888f",
   "metadata": {},
   "outputs": [
    {
     "name": "stdout",
     "output_type": "stream",
     "text": [
      "Nombre d'images normal importées : 234\n",
      "Nombre d'images Pneumonia importées : 390\n"
     ]
    }
   ],
   "source": [
    "print(\"Nombre d'images normal importées :\", len(ListimagesTestNORMAL))\n",
    "print(\"Nombre d'images Pneumonia importées :\", len(ListimagesTestPNEUMONIA))"
   ]
  },
  {
   "cell_type": "code",
   "execution_count": 6,
   "id": "7d77b674",
   "metadata": {},
   "outputs": [],
   "source": [
    "\n",
    "ListimagesResizeTestNORMAL = []\n",
    "ListimagesResizeTestPNEUMONIA = []\n",
    "\n",
    "ListimagesResizeTrainNORMAL = []\n",
    "ListimagesResizeTrainPNEUMONIA = []"
   ]
  },
  {
   "cell_type": "code",
   "execution_count": 7,
   "id": "aeb63a70",
   "metadata": {},
   "outputs": [],
   "source": [
    "img0shape = ListimagesTestNORMAL[0].size\n",
    "\n",
    "for img in ListimagesTestNORMAL :\n",
    "    ListimagesResizeTestNORMAL.append(img.resize(img0shape))\n",
    "    \n",
    "for img in ListimagesTestPNEUMONIA :\n",
    "    ListimagesResizeTestPNEUMONIA.append(img.resize(img0shape))\n"
   ]
  },
  {
   "cell_type": "code",
   "execution_count": 8,
   "id": "86bf8fa5",
   "metadata": {},
   "outputs": [],
   "source": [
    "for img in ListimagesTrainNORMAL :\n",
    "    ListimagesResizeTrainNORMAL.append(img.resize(img0shape))\n",
    "    \n",
    "for img in ListimagesTrainPNEUMONIA :\n",
    "    ListimagesResizeTrainPNEUMONIA.append(img.resize(img0shape))\n"
   ]
  },
  {
   "cell_type": "code",
   "execution_count": 11,
   "id": "105dd4d3",
   "metadata": {},
   "outputs": [],
   "source": [
    "ListimagesResizeTrainNORMAL[0].show()\n",
    "ListimagesResizeTestPNEUMONIA[0].show()"
   ]
  },
  {
   "cell_type": "code",
   "execution_count": 9,
   "id": "7be3c66c",
   "metadata": {},
   "outputs": [
    {
     "name": "stderr",
     "output_type": "stream",
     "text": [
      "C:\\Users\\ferre\\AppData\\Local\\Temp\\ipykernel_3016\\1948561325.py:2: VisibleDeprecationWarning: Creating an ndarray from ragged nested sequences (which is a list-or-tuple of lists-or-tuples-or ndarrays with different lengths or shapes) is deprecated. If you meant to do this, you must specify 'dtype=object' when creating the ndarray.\n",
      "  X_pneumonia = np.array([np.array(img).ravel() for img in ListimagesResizeTrainPNEUMONIA])\n"
     ]
    },
    {
     "ename": "ValueError",
     "evalue": "all the input arrays must have same number of dimensions, but the array at index 0 has 2 dimension(s) and the array at index 1 has 1 dimension(s)",
     "output_type": "error",
     "traceback": [
      "\u001b[1;31m---------------------------------------------------------------------------\u001b[0m",
      "\u001b[1;31mValueError\u001b[0m                                Traceback (most recent call last)",
      "\u001b[1;32m~\\AppData\\Local\\Temp\\ipykernel_3016\\1948561325.py\u001b[0m in \u001b[0;36m<module>\u001b[1;34m\u001b[0m\n\u001b[0;32m      1\u001b[0m \u001b[0mX_normal\u001b[0m \u001b[1;33m=\u001b[0m \u001b[0mnp\u001b[0m\u001b[1;33m.\u001b[0m\u001b[0marray\u001b[0m\u001b[1;33m(\u001b[0m\u001b[1;33m[\u001b[0m\u001b[0mnp\u001b[0m\u001b[1;33m.\u001b[0m\u001b[0marray\u001b[0m\u001b[1;33m(\u001b[0m\u001b[0mimg\u001b[0m\u001b[1;33m)\u001b[0m\u001b[1;33m.\u001b[0m\u001b[0mravel\u001b[0m\u001b[1;33m(\u001b[0m\u001b[1;33m)\u001b[0m \u001b[1;32mfor\u001b[0m \u001b[0mimg\u001b[0m \u001b[1;32min\u001b[0m \u001b[0mListimagesResizeTrainNORMAL\u001b[0m\u001b[1;33m]\u001b[0m\u001b[1;33m)\u001b[0m\u001b[1;33m\u001b[0m\u001b[1;33m\u001b[0m\u001b[0m\n\u001b[0;32m      2\u001b[0m \u001b[0mX_pneumonia\u001b[0m \u001b[1;33m=\u001b[0m \u001b[0mnp\u001b[0m\u001b[1;33m.\u001b[0m\u001b[0marray\u001b[0m\u001b[1;33m(\u001b[0m\u001b[1;33m[\u001b[0m\u001b[0mnp\u001b[0m\u001b[1;33m.\u001b[0m\u001b[0marray\u001b[0m\u001b[1;33m(\u001b[0m\u001b[0mimg\u001b[0m\u001b[1;33m)\u001b[0m\u001b[1;33m.\u001b[0m\u001b[0mravel\u001b[0m\u001b[1;33m(\u001b[0m\u001b[1;33m)\u001b[0m \u001b[1;32mfor\u001b[0m \u001b[0mimg\u001b[0m \u001b[1;32min\u001b[0m \u001b[0mListimagesResizeTrainPNEUMONIA\u001b[0m\u001b[1;33m]\u001b[0m\u001b[1;33m)\u001b[0m\u001b[1;33m\u001b[0m\u001b[1;33m\u001b[0m\u001b[0m\n\u001b[1;32m----> 3\u001b[1;33m \u001b[0mX\u001b[0m \u001b[1;33m=\u001b[0m \u001b[0mnp\u001b[0m\u001b[1;33m.\u001b[0m\u001b[0mconcatenate\u001b[0m\u001b[1;33m(\u001b[0m\u001b[1;33m(\u001b[0m\u001b[0mX_normal\u001b[0m\u001b[1;33m,\u001b[0m \u001b[0mX_pneumonia\u001b[0m\u001b[1;33m)\u001b[0m\u001b[1;33m)\u001b[0m\u001b[1;33m\u001b[0m\u001b[1;33m\u001b[0m\u001b[0m\n\u001b[0m\u001b[0;32m      4\u001b[0m \u001b[0my\u001b[0m \u001b[1;33m=\u001b[0m \u001b[0mnp\u001b[0m\u001b[1;33m.\u001b[0m\u001b[0mconcatenate\u001b[0m\u001b[1;33m(\u001b[0m\u001b[1;33m(\u001b[0m\u001b[0mnp\u001b[0m\u001b[1;33m.\u001b[0m\u001b[0mzeros\u001b[0m\u001b[1;33m(\u001b[0m\u001b[0mlen\u001b[0m\u001b[1;33m(\u001b[0m\u001b[0mX_normal\u001b[0m\u001b[1;33m)\u001b[0m\u001b[1;33m)\u001b[0m\u001b[1;33m,\u001b[0m \u001b[0mnp\u001b[0m\u001b[1;33m.\u001b[0m\u001b[0mones\u001b[0m\u001b[1;33m(\u001b[0m\u001b[0mlen\u001b[0m\u001b[1;33m(\u001b[0m\u001b[0mX_pneumonia\u001b[0m\u001b[1;33m)\u001b[0m\u001b[1;33m)\u001b[0m\u001b[1;33m)\u001b[0m\u001b[1;33m)\u001b[0m\u001b[1;33m\u001b[0m\u001b[1;33m\u001b[0m\u001b[0m\n\u001b[0;32m      5\u001b[0m \u001b[1;33m\u001b[0m\u001b[0m\n",
      "\u001b[1;32m<__array_function__ internals>\u001b[0m in \u001b[0;36mconcatenate\u001b[1;34m(*args, **kwargs)\u001b[0m\n",
      "\u001b[1;31mValueError\u001b[0m: all the input arrays must have same number of dimensions, but the array at index 0 has 2 dimension(s) and the array at index 1 has 1 dimension(s)"
     ]
    }
   ],
   "source": [
    "X_normal = np.array([np.array(img).ravel() for img in ListimagesResizeTrainNORMAL])\n",
    "X_pneumonia = np.array([np.array(img).ravel() for img in ListimagesResizeTrainPNEUMONIA])\n",
    "X = np.concatenate((X_normal, X_pneumonia))\n",
    "y = np.concatenate((np.zeros(len(X_normal)), np.ones(len(X_pneumonia))))\n",
    "\n",
    "X_normal_test = np.array([np.array(img).ravel() for img in ListimagesResizeTestNORMAL])\n",
    "X_pneumonia_test = np.array([np.array(img).ravel() for img in ListimagesResizeTestPNEUMONIA])\n",
    "X_test = np.concatenate((X_normal_test, X_pneumonia_test))\n",
    "y_test = np.concatenate((np.zeros(len(X_normal_test)), np.ones(len(X_pneumonia_test))))\n",
    "\n"
   ]
  },
  {
   "cell_type": "code",
   "execution_count": null,
   "id": "a8901777",
   "metadata": {},
   "outputs": [],
   "source": [
    "print(X)\n",
    "print(y)\n",
    "\n",
    "\n"
   ]
  },
  {
   "cell_type": "code",
   "execution_count": null,
   "id": "6feb8449",
   "metadata": {},
   "outputs": [],
   "source": [
    "# Fit SVM classifier\n",
    "clf = svm.SVC(gamma=0.001)\n",
    "clf.fit(X, y)"
   ]
  },
  {
   "cell_type": "code",
   "execution_count": null,
   "id": "b91c3842",
   "metadata": {},
   "outputs": [],
   "source": [
    "predicted = clf.predict(X_test)"
   ]
  },
  {
   "cell_type": "code",
   "execution_count": null,
   "id": "54a9ef16",
   "metadata": {},
   "outputs": [],
   "source": []
  }
 ],
 "metadata": {
  "kernelspec": {
   "display_name": "Python 3 (ipykernel)",
   "language": "python",
   "name": "python3"
  },
  "language_info": {
   "codemirror_mode": {
    "name": "ipython",
    "version": 3
   },
   "file_extension": ".py",
   "mimetype": "text/x-python",
   "name": "python",
   "nbconvert_exporter": "python",
   "pygments_lexer": "ipython3",
   "version": "3.9.13"
  }
 },
 "nbformat": 4,
 "nbformat_minor": 5
}
